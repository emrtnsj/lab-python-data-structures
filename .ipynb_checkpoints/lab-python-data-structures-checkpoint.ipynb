{
 "cells": [
  {
   "cell_type": "markdown",
   "metadata": {
    "tags": []
   },
   "source": [
    "# Lab | Data Structures "
   ]
  },
  {
   "cell_type": "markdown",
   "metadata": {},
   "source": [
    "## Exercise: Managing Customer Orders\n",
    "\n",
    "As part of a business venture, you are starting an online store that sells various products. To ensure smooth operations, you need to develop a program that manages customer orders and inventory.\n",
    "\n",
    "Follow the steps below to complete the exercise:\n",
    "\n",
    "1. Define a list called `products` that contains the following items: \"t-shirt\", \"mug\", \"hat\", \"book\", \"keychain\".\n",
    "\n",
    "2. Create an empty dictionary called `inventory`.\n",
    "\n",
    "3. Ask the user to input the quantity of each product available in the inventory. Use the product names from the `products` list as keys in the `inventory` dictionary and assign the respective quantities as values.\n",
    "\n",
    "4. Create an empty set called `customer_orders`.\n",
    "\n",
    "5. Ask the user to input the name of three products that a customer wants to order (from those in the products list, meaning three products out of \"t-shirt\", \"mug\", \"hat\", \"book\" or \"keychain\". Add each product name to the `customer_orders` set.\n",
    "\n",
    "6. Print the products in the `customer_orders` set.\n",
    "\n",
    "7. Calculate the following order statistics:\n",
    "   - Total Products Ordered: The total number of products in the `customer_orders` set.\n",
    "   - Percentage of Products Ordered: The percentage of products ordered compared to the total available products.\n",
    "   \n",
    "   Store these statistics in a tuple called `order_status`.\n",
    "\n",
    "8. Print the order statistics using the following format:\n",
    "   ```\n",
    "   Order Statistics:\n",
    "   Total Products Ordered: <total_products_ordered>\n",
    "   Percentage of Products Ordered: <percentage_ordered>% \n",
    "   ```\n",
    "\n",
    "9. Update the inventory by subtracting 1 from the quantity of each product. Modify the `inventory` dictionary accordingly.\n",
    "\n",
    "10. Print the updated inventory, displaying the quantity of each product on separate lines.\n",
    "\n",
    "Solve the exercise by implementing the steps using the Python concepts of lists, dictionaries, sets, and basic input/output operations. "
   ]
  },
  {
   "cell_type": "code",
   "execution_count": null,
   "metadata": {},
   "outputs": [],
   "source": [
    "products = [\"t-shirt\", \"mug\", \"hat\", \"book\", \"keychain\"]\n",
    "inventory = {}\n",
    "total_av = 0  #initiating total available in store\n",
    "\n",
    "for product in products:\n",
    "    x = int(input(f\"Enter the quantity of {product}: \")) #x is the quantaty\n",
    "    inventory[product] = x\n",
    "    total_av += x   #adding the products to the inventory to get the total\n",
    "#print(total_av)\n",
    "    \n",
    "print(inventory)\n",
    "customer_orders = set()  #creating an empty set\n",
    "\n",
    "print(\"\\nEnter 3 products you want to buy:\")\n",
    "for i in range(3):  #we could use a while loop, initiating i=0 and adding i+= 1\n",
    "    order = input(f\"Product {i+1}: \").strip().lower() #strip all whitecases and lowering cases to be sure the input matches\n",
    "    if order in products:                            # we need to check if the inputed product name is valid\n",
    "        customer_orders.add(order)   \n",
    "    else:\n",
    "        print(f\"Not found product name: {order}\")\n",
    "\n",
    "print(\"\\nProducts in your order:\")\n",
    "for product in customer_orders:\n",
    "    print(product)\n",
    "    \n",
    "\n",
    "total_or = 0  #total products ordered initiated to 0\n",
    "for orde in customer_orders:\n",
    "    if orde in inventory: #we need ti check if the quantatity ordered is available, if the user tries to input a bigger value than the available in inventory we equal the ordered to the max available\n",
    "        max_ord= min(inventory[orde], int(input(f\"Enter the quantity of {orde} you want to order: \")))\n",
    "        print(f\"{orde} ordered: {max_ord}\")\n",
    "        total_or += max_ord\n",
    "    \n",
    "\n",
    "\n",
    "#percentage ordered\n",
    "perc_ord = (total_or / total_av) * 100\n",
    "\n",
    "\n",
    "print(\"\\nOrder Statistics:\")\n",
    "print(f\"Total Products Ordered: {total_or}\")\n",
    "print(f\"Percentage of Products Ordered: {perc_ord}\")\n",
    "\n",
    "\n",
    "#subtrating 1 from every product in inventory, we need to go through all values\n",
    "for product in inventory:\n",
    "    inventory[product] -= 1\n",
    "\n",
    "print(f\"Updated inventory\")\n",
    "for product, x in inventory.items():\n",
    "        print(f\"{product} - {x}\")\n"
   ]
  }
 ],
 "metadata": {
  "kernelspec": {
   "display_name": "Python 3 (ipykernel)",
   "language": "python",
   "name": "python3"
  },
  "language_info": {
   "codemirror_mode": {
    "name": "ipython",
    "version": 3
   },
   "file_extension": ".py",
   "mimetype": "text/x-python",
   "name": "python",
   "nbconvert_exporter": "python",
   "pygments_lexer": "ipython3",
   "version": "3.11.7"
  }
 },
 "nbformat": 4,
 "nbformat_minor": 4
}
